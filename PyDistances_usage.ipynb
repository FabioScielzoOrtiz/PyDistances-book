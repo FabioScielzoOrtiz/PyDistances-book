{
 "cells": [
  {
   "cell_type": "markdown",
   "metadata": {},
   "source": [
    "# **PyDistances**"
   ]
  },
  {
   "cell_type": "markdown",
   "metadata": {},
   "source": [
    "## **Requirements**"
   ]
  },
  {
   "cell_type": "code",
   "execution_count": null,
   "metadata": {},
   "outputs": [],
   "source": [
    "pip install PyDistances --upgrade"
   ]
  },
  {
   "cell_type": "code",
   "execution_count": 2,
   "metadata": {},
   "outputs": [],
   "source": [
    "import polars as pl\n",
    "import numpy as np\n",
    "from PyMachineLearning.preprocessing import encoder\n",
    "from PyDistances.quantitative import (Euclidean_dist, Euclidean_dist_matrix,\n",
    "                                      Minkowski_dist, Minkowski_dist_matrix,\n",
    "                                      Canberra_dist, Canberra_dist_matrix,\n",
    "                                      Pearson_dist_matrix,\n",
    "                                      Mahalanobis_dist, Mahalanobis_dist_matrix,\n",
    "                                      Robust_Maha_dist, Robust_Maha_dist_matrix)\n",
    "from PyDistances.binary import (Sokal_dist, Sokal_dist_matrix,\n",
    "                                Jaccard_dist, Jaccard_dist_matrix)\n",
    "from PyDistances.multiclass import (Matching_dist, Matching_dist_matrix)\n",
    "from PyDistances.mixed import (GG_dist, GG_dist_matrix, RelMS_dist_matrix, S_robust)"
   ]
  },
  {
   "cell_type": "markdown",
   "metadata": {},
   "source": [
    "## **Data processing**"
   ]
  },
  {
   "cell_type": "code",
   "execution_count": 3,
   "metadata": {},
   "outputs": [],
   "source": [
    "madrid_houses_df = pl.read_csv('madrid_houses.csv')\n",
    "columns_to_exclude = ['', 'id','sq_mt_allotment','floor', 'neighborhood', 'district'] \n",
    "madrid_houses_df = madrid_houses_df.select(pl.exclude(columns_to_exclude))\n",
    "\n",
    "binary_cols = ['is_renewal_needed', 'has_lift', 'is_exterior', 'has_parking']\n",
    "multi_cols = ['energy_certificate', 'house_type']\n",
    "quant_cols = [x for x in madrid_houses_df.columns if x not in binary_cols + multi_cols]\n",
    "\n",
    "encoder_ = encoder(method='ordinal')\n",
    "encoded_arr = encoder_.fit_transform(madrid_houses_df[binary_cols + multi_cols])\n",
    "cat_df = pl.DataFrame(encoded_arr)\n",
    "cat_df.columns =  binary_cols + multi_cols\n",
    "cat_df = cat_df.with_columns([pl.col(col).cast(pl.Int64) for col in cat_df.columns])\n",
    "quant_df = madrid_houses_df[quant_cols]\n",
    "\n",
    "madrid_houses_df = pl.concat([quant_df, cat_df], how='horizontal')"
   ]
  },
  {
   "cell_type": "code",
   "execution_count": 4,
   "metadata": {},
   "outputs": [
    {
     "data": {
      "text/html": [
       "<div><style>\n",
       ".dataframe > thead > tr > th,\n",
       ".dataframe > tbody > tr > td {\n",
       "  text-align: right;\n",
       "  white-space: pre-wrap;\n",
       "}\n",
       "</style>\n",
       "<small>shape: (5, 11)</small><table border=\"1\" class=\"dataframe\"><thead><tr><th>sq_mt_built</th><th>n_rooms</th><th>n_bathrooms</th><th>n_floors</th><th>buy_price</th><th>is_renewal_needed</th><th>has_lift</th><th>is_exterior</th><th>has_parking</th><th>energy_certificate</th><th>house_type</th></tr><tr><td>f64</td><td>i64</td><td>i64</td><td>i64</td><td>i64</td><td>i64</td><td>i64</td><td>i64</td><td>i64</td><td>i64</td><td>i64</td></tr></thead><tbody><tr><td>64.0</td><td>2</td><td>1</td><td>1</td><td>85000</td><td>0</td><td>0</td><td>1</td><td>0</td><td>4</td><td>0</td></tr><tr><td>70.0</td><td>3</td><td>1</td><td>1</td><td>129900</td><td>1</td><td>1</td><td>1</td><td>0</td><td>0</td><td>0</td></tr><tr><td>94.0</td><td>2</td><td>2</td><td>1</td><td>144247</td><td>0</td><td>1</td><td>1</td><td>0</td><td>0</td><td>0</td></tr><tr><td>64.0</td><td>2</td><td>1</td><td>1</td><td>109900</td><td>0</td><td>1</td><td>1</td><td>0</td><td>0</td><td>0</td></tr><tr><td>108.0</td><td>2</td><td>2</td><td>1</td><td>260000</td><td>0</td><td>1</td><td>1</td><td>1</td><td>0</td><td>0</td></tr></tbody></table></div>"
      ],
      "text/plain": [
       "shape: (5, 11)\n",
       "┌────────────┬─────────┬────────────┬──────────┬───┬───────────┬───────────┬───────────┬───────────┐\n",
       "│ sq_mt_buil ┆ n_rooms ┆ n_bathroom ┆ n_floors ┆ … ┆ is_exteri ┆ has_parki ┆ energy_ce ┆ house_typ │\n",
       "│ t          ┆ ---     ┆ s          ┆ ---      ┆   ┆ or        ┆ ng        ┆ rtificate ┆ e         │\n",
       "│ ---        ┆ i64     ┆ ---        ┆ i64      ┆   ┆ ---       ┆ ---       ┆ ---       ┆ ---       │\n",
       "│ f64        ┆         ┆ i64        ┆          ┆   ┆ i64       ┆ i64       ┆ i64       ┆ i64       │\n",
       "╞════════════╪═════════╪════════════╪══════════╪═══╪═══════════╪═══════════╪═══════════╪═══════════╡\n",
       "│ 64.0       ┆ 2       ┆ 1          ┆ 1        ┆ … ┆ 1         ┆ 0         ┆ 4         ┆ 0         │\n",
       "│ 70.0       ┆ 3       ┆ 1          ┆ 1        ┆ … ┆ 1         ┆ 0         ┆ 0         ┆ 0         │\n",
       "│ 94.0       ┆ 2       ┆ 2          ┆ 1        ┆ … ┆ 1         ┆ 0         ┆ 0         ┆ 0         │\n",
       "│ 64.0       ┆ 2       ┆ 1          ┆ 1        ┆ … ┆ 1         ┆ 0         ┆ 0         ┆ 0         │\n",
       "│ 108.0      ┆ 2       ┆ 2          ┆ 1        ┆ … ┆ 1         ┆ 1         ┆ 0         ┆ 0         │\n",
       "└────────────┴─────────┴────────────┴──────────┴───┴───────────┴───────────┴───────────┴───────────┘"
      ]
     },
     "execution_count": 4,
     "metadata": {},
     "output_type": "execute_result"
    }
   ],
   "source": [
    "madrid_houses_df.head()"
   ]
  },
  {
   "cell_type": "code",
   "execution_count": 5,
   "metadata": {},
   "outputs": [
    {
     "data": {
      "text/plain": [
       "(21739, 11)"
      ]
     },
     "execution_count": 5,
     "metadata": {},
     "output_type": "execute_result"
    }
   ],
   "source": [
    "madrid_houses_df.shape"
   ]
  },
  {
   "cell_type": "markdown",
   "metadata": {},
   "source": [
    "## **Classic distances**\n",
    "\n",
    "### **Quantitative data**"
   ]
  },
  {
   "cell_type": "markdown",
   "metadata": {},
   "source": [
    "#### **Euclidean**  \n"
   ]
  },
  {
   "cell_type": "markdown",
   "metadata": {},
   "source": [
    "\n",
    "##### **Using data-set as input**\n"
   ]
  },
  {
   "cell_type": "code",
   "execution_count": null,
   "metadata": {},
   "outputs": [],
   "source": [
    "def Euclidean_dist_matrix(X):\n",
    "    \n",
    "    Calculates the Euclidean distance matrix for a data matrix using SciPy.\n",
    "\n",
    "    Parameters (inputs)\n",
    "    ----------\n",
    "    X: a Pandas or Polars DataFrame or a NumPy array. It represents a data matrix.\n",
    "\n",
    "    Returns (outputs)\n",
    "    ----------\n",
    "    M: the Euclidean distance matrix between the rows of 'X'."
   ]
  },
  {
   "cell_type": "code",
   "execution_count": 6,
   "metadata": {},
   "outputs": [
    {
     "data": {
      "text/plain": [
       "array([[     0.        ,  44900.00041203,  59247.00760376, ...,\n",
       "        595000.01035798, 610000.04150574, 339000.00009587],\n",
       "       [ 44900.00041203,      0.        ,  14347.02014357, ...,\n",
       "        550100.01002272, 565100.04244381, 294100.0000102 ],\n",
       "       [ 59247.00760376,  14347.02014357,      0.        , ...,\n",
       "        535753.00612689, 550753.03452909, 279753.00086505],\n",
       "       ...,\n",
       "       [595000.01035798, 550100.01002272, 535753.00612689, ...,\n",
       "             0.        ,  15000.43336041, 256000.02072851],\n",
       "       [610000.04150574, 565100.04244381, 550753.03452909, ...,\n",
       "         15000.43336041,      0.        , 271000.08689667],\n",
       "       [339000.00009587, 294100.0000102 , 279753.00086505, ...,\n",
       "        256000.02072851, 271000.08689667,      0.        ]])"
      ]
     },
     "execution_count": 6,
     "metadata": {},
     "output_type": "execute_result"
    }
   ],
   "source": [
    "Euclidean_dist_matrix(X=madrid_houses_df[quant_cols])"
   ]
  },
  {
   "cell_type": "markdown",
   "metadata": {},
   "source": [
    "\n",
    "##### **Using couple of observations as input**  "
   ]
  },
  {
   "cell_type": "code",
   "execution_count": 7,
   "metadata": {},
   "outputs": [],
   "source": [
    "x1 = madrid_houses_df[quant_cols][0,:]\n",
    "x3 = madrid_houses_df[quant_cols][2,:]"
   ]
  },
  {
   "cell_type": "code",
   "execution_count": 8,
   "metadata": {},
   "outputs": [
    {
     "data": {
      "text/plain": [
       "59247.00760376004"
      ]
     },
     "execution_count": 8,
     "metadata": {},
     "output_type": "execute_result"
    }
   ],
   "source": [
    "Euclidean_dist(x1, x3)"
   ]
  },
  {
   "cell_type": "markdown",
   "metadata": {},
   "source": [
    "#### **Minkowski**  \n"
   ]
  },
  {
   "cell_type": "markdown",
   "metadata": {},
   "source": [
    "\n",
    "##### **Using data-set as input**\n"
   ]
  },
  {
   "cell_type": "code",
   "execution_count": null,
   "metadata": {},
   "outputs": [],
   "source": [
    "def Minkowski_dist_matrix(X, q):\n",
    "    \n",
    "    Calculates the Minkowski distance matrix for a data matrix using SciPy.\n",
    "\n",
    "    Parameters (inputs)\n",
    "    ----------\n",
    "    X: a Pandas or Polars DataFrame or a NumPy array. It represents a data matrix.\n",
    "    q: the parameters that defines the Minkowski form. Some particular cases: q=1 := Manhattan, q=2 := Euclidean.\n",
    "\n",
    "    Returns (outputs)\n",
    "    ----------\n",
    "    M: the Minkowski distance matrix between the rows of 'X'."
   ]
  },
  {
   "cell_type": "code",
   "execution_count": 9,
   "metadata": {},
   "outputs": [
    {
     "data": {
      "text/plain": [
       "array([[     0.,  44907.,  59278., ..., 595114., 610231., 339009.],\n",
       "       [ 44907.,      0.,  14373., ..., 550207., 565324., 294104.],\n",
       "       [ 59278.,  14373.,      0., ..., 535836., 550953., 279775.],\n",
       "       ...,\n",
       "       [595114., 550207., 535836., ...,      0.,  15117., 256105.],\n",
       "       [610231., 565324., 550953., ...,  15117.,      0., 271222.],\n",
       "       [339009., 294104., 279775., ..., 256105., 271222.,      0.]])"
      ]
     },
     "execution_count": 9,
     "metadata": {},
     "output_type": "execute_result"
    }
   ],
   "source": [
    "Minkowski_dist_matrix(X=madrid_houses_df[quant_cols], q=1)"
   ]
  },
  {
   "cell_type": "code",
   "execution_count": 10,
   "metadata": {},
   "outputs": [
    {
     "data": {
      "text/plain": [
       "array([[     0.        ,  44900.00000004,  59247.00000256, ...,\n",
       "        595000.00000129, 610000.0000102 , 339000.        ],\n",
       "       [ 44900.00000004,      0.        ,  14347.00002239, ...,\n",
       "        550100.00000127, 565100.00001096, 294100.        ],\n",
       "       [ 59247.00000256,  14347.00002239,      0.        , ...,\n",
       "        535753.00000062, 550753.00000815, 279753.00000005],\n",
       "       ...,\n",
       "       [595000.00000129, 550100.00000127, 535753.00000062, ...,\n",
       "             0.        ,  15000.00219489, 256000.00000556],\n",
       "       [610000.0000102 , 565100.00001096, 550753.00000815, ...,\n",
       "         15000.00219489,      0.        , 271000.00004638],\n",
       "       [339000.        , 294100.        , 279753.00000005, ...,\n",
       "        256000.00000556, 271000.00004638,      0.        ]])"
      ]
     },
     "execution_count": 10,
     "metadata": {},
     "output_type": "execute_result"
    }
   ],
   "source": [
    "Minkowski_dist_matrix(X=madrid_houses_df[quant_cols], q=3)"
   ]
  },
  {
   "cell_type": "markdown",
   "metadata": {},
   "source": [
    "\n",
    "##### **Using couple of observations as input**  "
   ]
  },
  {
   "cell_type": "code",
   "execution_count": 11,
   "metadata": {},
   "outputs": [
    {
     "data": {
      "text/plain": [
       "59278.0"
      ]
     },
     "execution_count": 11,
     "metadata": {},
     "output_type": "execute_result"
    }
   ],
   "source": [
    "Minkowski_dist(x1, x3, q=1)"
   ]
  },
  {
   "cell_type": "code",
   "execution_count": 12,
   "metadata": {},
   "outputs": [
    {
     "data": {
      "text/plain": [
       "59247.00760376004"
      ]
     },
     "execution_count": 12,
     "metadata": {},
     "output_type": "execute_result"
    }
   ],
   "source": [
    "Minkowski_dist(x1, x3, q=2)"
   ]
  },
  {
   "cell_type": "code",
   "execution_count": 13,
   "metadata": {},
   "outputs": [
    {
     "data": {
      "text/plain": [
       "59247.00000256401"
      ]
     },
     "execution_count": 13,
     "metadata": {},
     "output_type": "execute_result"
    }
   ],
   "source": [
    "Minkowski_dist(x1, x3, q=3)"
   ]
  },
  {
   "cell_type": "markdown",
   "metadata": {},
   "source": [
    "#### **Canberra**  \n"
   ]
  },
  {
   "cell_type": "markdown",
   "metadata": {},
   "source": [
    "\n",
    "##### **Using data-set as input**\n"
   ]
  },
  {
   "cell_type": "code",
   "execution_count": null,
   "metadata": {},
   "outputs": [],
   "source": [
    "def Canberra_dist_matrix(X):\n",
    "    \n",
    "    Calculates the Canberra distance matrix for a data matrix using SciPy.\n",
    "\n",
    "    Parameters (inputs)\n",
    "    ----------\n",
    "    X: a Pandas or Polars DataFrame or a NumPy array. It represents a data matrix.\n",
    "\n",
    "    Returns (outputs)\n",
    "    ----------\n",
    "    M: the Canberra distance matrix between the rows of 'X'."
   ]
  },
  {
   "cell_type": "code",
   "execution_count": 14,
   "metadata": {},
   "outputs": [
    {
     "data": {
      "text/plain": [
       "array([[0.        , 0.45371051, 0.78164852, ..., 1.90887959, 2.75277838,\n",
       "        1.05816865],\n",
       "       [0.45371051, 0.        , 0.73200803, ..., 1.58398156, 2.43793773,\n",
       "        1.07838011],\n",
       "       [0.78164852, 0.73200803, 0.        , ..., 1.28443942, 2.19871833,\n",
       "        0.62483892],\n",
       "       ...,\n",
       "       [1.90887959, 1.58398156, 1.28443942, ..., 0.        , 0.95659875,\n",
       "        0.98222144],\n",
       "       [2.75277838, 2.43793773, 2.19871833, ..., 0.95659875, 0.        ,\n",
       "        1.87662188],\n",
       "       [1.05816865, 1.07838011, 0.62483892, ..., 0.98222144, 1.87662188,\n",
       "        0.        ]])"
      ]
     },
     "execution_count": 14,
     "metadata": {},
     "output_type": "execute_result"
    }
   ],
   "source": [
    "Canberra_dist_matrix(X=madrid_houses_df[quant_cols])"
   ]
  },
  {
   "cell_type": "markdown",
   "metadata": {},
   "source": [
    "\n",
    "##### **Using couple of observations as input**  "
   ]
  },
  {
   "cell_type": "code",
   "execution_count": 15,
   "metadata": {},
   "outputs": [
    {
     "data": {
      "text/plain": [
       "0.7816485191041616"
      ]
     },
     "execution_count": 15,
     "metadata": {},
     "output_type": "execute_result"
    }
   ],
   "source": [
    "Canberra_dist(x1, x3)"
   ]
  },
  {
   "cell_type": "markdown",
   "metadata": {},
   "source": [
    "#### **Pearson**  \n"
   ]
  },
  {
   "cell_type": "markdown",
   "metadata": {},
   "source": [
    "\n",
    "##### **Using data-set as input**\n"
   ]
  },
  {
   "cell_type": "code",
   "execution_count": null,
   "metadata": {},
   "outputs": [],
   "source": [
    "def Pearson_dist_matrix(X):\n",
    "    \n",
    "    Calculates the Pearson distance matrix for a data matrix using SciPy.\n",
    "\n",
    "    Parameters (inputs)\n",
    "    ----------\n",
    "    X: a Pandas or Polars DataFrame or a NumPy array. It represents a data matrix.\n",
    "\n",
    "    Returns (outputs)\n",
    "    ----------\n",
    "    M: the Pearson distance matrix between the rows of 'X'."
   ]
  },
  {
   "cell_type": "code",
   "execution_count": 16,
   "metadata": {},
   "outputs": [
    {
     "data": {
      "text/plain": [
       "array([[0.        , 0.66557805, 0.73750837, ..., 1.81426832, 3.76742474,\n",
       "        0.83385122],\n",
       "       [0.66557805, 0.        , 0.98231536, ..., 1.35816365, 3.56285077,\n",
       "        1.04162306],\n",
       "       [0.73750837, 0.98231536, 0.        , ..., 1.56993872, 3.47873654,\n",
       "        0.38187408],\n",
       "       ...,\n",
       "       [1.81426832, 1.35816365, 1.56993872, ..., 0.        , 2.98830222,\n",
       "        1.50055625],\n",
       "       [3.76742474, 3.56285077, 3.47873654, ..., 2.98830222, 0.        ,\n",
       "        3.4727102 ],\n",
       "       [0.83385122, 1.04162306, 0.38187408, ..., 1.50055625, 3.4727102 ,\n",
       "        0.        ]])"
      ]
     },
     "execution_count": 16,
     "metadata": {},
     "output_type": "execute_result"
    }
   ],
   "source": [
    "Pearson_dist_matrix(X=madrid_houses_df[quant_cols])"
   ]
  },
  {
   "cell_type": "markdown",
   "metadata": {},
   "source": [
    "#### **Mahalanobis**  \n"
   ]
  },
  {
   "cell_type": "markdown",
   "metadata": {},
   "source": [
    "\n",
    "##### **Using data-set as input**\n"
   ]
  },
  {
   "cell_type": "code",
   "execution_count": null,
   "metadata": {},
   "outputs": [],
   "source": [
    "def Mahalanobis_dist_matrix(X):\n",
    "    \n",
    "    Calculates the Mahalanobis distance matrix for a data matrix using SciPy.\n",
    "\n",
    "    Parameters (inputs)\n",
    "    ----------\n",
    "    X: a Pandas or Polars DataFrame or a NumPy array. It represents a data matrix.\n",
    "\n",
    "    Returns (outputs)\n",
    "    ----------\n",
    "    M: the Mahalanobis distance matrix between the rows of 'X'."
   ]
  },
  {
   "cell_type": "code",
   "execution_count": 17,
   "metadata": {},
   "outputs": [
    {
     "data": {
      "text/plain": [
       "array([[0.        , 0.98305366, 1.35352819, ..., 1.51225082, 2.9059013 ,\n",
       "        1.39140298],\n",
       "       [0.98305366, 0.        , 2.03435122, ..., 0.95079695, 2.95281549,\n",
       "        2.01444275],\n",
       "       [1.35352819, 2.03435122, 0.        , ..., 2.12708355, 3.26187536,\n",
       "        0.82635883],\n",
       "       ...,\n",
       "       [1.51225082, 0.95079695, 2.12708355, ..., 0.        , 3.28213849,\n",
       "        2.08421407],\n",
       "       [2.9059013 , 2.95281549, 3.26187536, ..., 3.28213849, 0.        ,\n",
       "        3.30618935],\n",
       "       [1.39140298, 2.01444275, 0.82635883, ..., 2.08421407, 3.30618935,\n",
       "        0.        ]])"
      ]
     },
     "execution_count": 17,
     "metadata": {},
     "output_type": "execute_result"
    }
   ],
   "source": [
    "Mahalanobis_dist_matrix(X=madrid_houses_df[quant_cols])"
   ]
  },
  {
   "cell_type": "markdown",
   "metadata": {},
   "source": [
    "\n",
    "##### **Using couple of observations as input**  "
   ]
  },
  {
   "cell_type": "code",
   "execution_count": 18,
   "metadata": {},
   "outputs": [],
   "source": [
    "S = np.cov(madrid_houses_df[quant_cols], rowvar=False)"
   ]
  },
  {
   "cell_type": "code",
   "execution_count": 19,
   "metadata": {},
   "outputs": [
    {
     "data": {
      "text/plain": [
       "46329151687.146484"
      ]
     },
     "execution_count": 19,
     "metadata": {},
     "output_type": "execute_result"
    }
   ],
   "source": [
    "Mahalanobis_dist(x1, x3, S=S)"
   ]
  },
  {
   "cell_type": "markdown",
   "metadata": {},
   "source": [
    "### **Binary data**"
   ]
  },
  {
   "cell_type": "markdown",
   "metadata": {},
   "source": [
    "#### **Sokal**  \n"
   ]
  },
  {
   "cell_type": "markdown",
   "metadata": {},
   "source": [
    "\n",
    "##### **Using data-set as input**\n"
   ]
  },
  {
   "cell_type": "code",
   "execution_count": null,
   "metadata": {},
   "outputs": [],
   "source": [
    "def Sokal_dist_matrix(X):\n",
    "    \n",
    "    Calculates the Sokal distance matrix for a data matrix using SciPy.\n",
    "\n",
    "    Parameters (inputs)\n",
    "    ----------\n",
    "    X: a Pandas or Polars DataFrame or a NumPy array. It represents a data matrix.\n",
    "\n",
    "    Returns (outputs)\n",
    "    ----------\n",
    "    M: the Sokal distance matrix between the rows of 'X'."
   ]
  },
  {
   "cell_type": "code",
   "execution_count": 20,
   "metadata": {},
   "outputs": [
    {
     "data": {
      "text/plain": [
       "array([[0., 0., 0., ..., 0., 0., 0.],\n",
       "       [0., 0., 0., ..., 0., 0., 0.],\n",
       "       [0., 0., 0., ..., 0., 0., 0.],\n",
       "       ...,\n",
       "       [0., 0., 0., ..., 0., 0., 0.],\n",
       "       [0., 0., 0., ..., 0., 0., 0.],\n",
       "       [0., 0., 0., ..., 0., 0., 0.]])"
      ]
     },
     "execution_count": 20,
     "metadata": {},
     "output_type": "execute_result"
    }
   ],
   "source": [
    "Sokal_dist_matrix(X=madrid_houses_df[quant_cols])"
   ]
  },
  {
   "cell_type": "markdown",
   "metadata": {},
   "source": [
    "\n",
    "##### **Using couple of observations as input**  "
   ]
  },
  {
   "cell_type": "code",
   "execution_count": 21,
   "metadata": {},
   "outputs": [],
   "source": [
    "x1 = madrid_houses_df[binary_cols][0,:]\n",
    "x3 = madrid_houses_df[binary_cols][2,:]"
   ]
  },
  {
   "cell_type": "code",
   "execution_count": 22,
   "metadata": {},
   "outputs": [
    {
     "data": {
      "text/plain": [
       "0.4"
      ]
     },
     "execution_count": 22,
     "metadata": {},
     "output_type": "execute_result"
    }
   ],
   "source": [
    "Sokal_dist(x1, x3)"
   ]
  },
  {
   "cell_type": "markdown",
   "metadata": {},
   "source": [
    "#### **Jaccard**  \n"
   ]
  },
  {
   "cell_type": "markdown",
   "metadata": {},
   "source": [
    "\n",
    "##### **Using data-set as input**\n"
   ]
  },
  {
   "cell_type": "code",
   "execution_count": null,
   "metadata": {},
   "outputs": [],
   "source": [
    "def Jaccard_dist_matrix(X):\n",
    "    \n",
    "    Calculates the Jaccard distance matrix for a data matrix using SciPy.\n",
    "\n",
    "    Parameters (inputs)\n",
    "    ----------\n",
    "    X: a Pandas or Polars DataFrame or a NumPy array. It represents a data matrix.\n",
    "\n",
    "    Returns (outputs)\n",
    "    ----------\n",
    "    M: the Jaccard distance matrix between the rows of 'X'."
   ]
  },
  {
   "cell_type": "code",
   "execution_count": 23,
   "metadata": {},
   "outputs": [
    {
     "data": {
      "text/plain": [
       "array([[0. , 0.6, 0.6, ..., 0.8, 1. , 0.6],\n",
       "       [0.6, 0. , 0.8, ..., 0.8, 1. , 0.8],\n",
       "       [0.6, 0.8, 0. , ..., 0.6, 1. , 0.4],\n",
       "       ...,\n",
       "       [0.8, 0.8, 0.6, ..., 0. , 0.8, 0.6],\n",
       "       [1. , 1. , 1. , ..., 0.8, 0. , 1. ],\n",
       "       [0.6, 0.8, 0.4, ..., 0.6, 1. , 0. ]])"
      ]
     },
     "execution_count": 23,
     "metadata": {},
     "output_type": "execute_result"
    }
   ],
   "source": [
    "Jaccard_dist_matrix(X=madrid_houses_df[quant_cols])"
   ]
  },
  {
   "cell_type": "markdown",
   "metadata": {},
   "source": [
    "\n",
    "##### **Using couple of observations as input**  "
   ]
  },
  {
   "cell_type": "code",
   "execution_count": 24,
   "metadata": {},
   "outputs": [
    {
     "data": {
      "text/plain": [
       "0.5"
      ]
     },
     "execution_count": 24,
     "metadata": {},
     "output_type": "execute_result"
    }
   ],
   "source": [
    "Jaccard_dist(x1, x3)"
   ]
  },
  {
   "cell_type": "markdown",
   "metadata": {},
   "source": [
    "### **Multiclass data**"
   ]
  },
  {
   "cell_type": "markdown",
   "metadata": {},
   "source": [
    "#### **Matching**  \n"
   ]
  },
  {
   "cell_type": "markdown",
   "metadata": {},
   "source": [
    "\n",
    "##### **Using data-set as input**\n"
   ]
  },
  {
   "cell_type": "markdown",
   "metadata": {},
   "source": [
    "def Matching_dist_matrix(X):\n",
    "    \n",
    "    Calculates the Matching distance matrix for a data matrix using SciPy.\n",
    "\n",
    "    Parameters (inputs)\n",
    "    ----------\n",
    "    X: a Pandas or Polars DataFrame or a NumPy array. It represents a data matrix.\n",
    "\n",
    "    Returns (outputs)\n",
    "    ----------\n",
    "    M: the Matching distance matrix between the rows of 'X'."
   ]
  },
  {
   "cell_type": "code",
   "execution_count": 25,
   "metadata": {},
   "outputs": [
    {
     "data": {
      "text/plain": [
       "array([[0. , 0.6, 0.6, ..., 0.8, 1. , 0.6],\n",
       "       [0.6, 0. , 0.8, ..., 0.8, 1. , 0.8],\n",
       "       [0.6, 0.8, 0. , ..., 0.6, 1. , 0.4],\n",
       "       ...,\n",
       "       [0.8, 0.8, 0.6, ..., 0. , 0.8, 0.6],\n",
       "       [1. , 1. , 1. , ..., 0.8, 0. , 1. ],\n",
       "       [0.6, 0.8, 0.4, ..., 0.6, 1. , 0. ]])"
      ]
     },
     "execution_count": 25,
     "metadata": {},
     "output_type": "execute_result"
    }
   ],
   "source": [
    "Matching_dist_matrix(X=madrid_houses_df[quant_cols])"
   ]
  },
  {
   "cell_type": "markdown",
   "metadata": {},
   "source": [
    "\n",
    "##### **Using couple of observations as input**  "
   ]
  },
  {
   "cell_type": "code",
   "execution_count": 26,
   "metadata": {},
   "outputs": [],
   "source": [
    "x1 = madrid_houses_df[multi_cols][0,:]\n",
    "x3 = madrid_houses_df[multi_cols][2,:]"
   ]
  },
  {
   "cell_type": "code",
   "execution_count": 27,
   "metadata": {},
   "outputs": [
    {
     "data": {
      "text/plain": [
       "0.5"
      ]
     },
     "execution_count": 27,
     "metadata": {},
     "output_type": "execute_result"
    }
   ],
   "source": [
    "Matching_dist(x1, x3)"
   ]
  },
  {
   "cell_type": "markdown",
   "metadata": {},
   "source": [
    "## **New proposals**"
   ]
  },
  {
   "cell_type": "markdown",
   "metadata": {},
   "source": [
    "### **Quantitative data**"
   ]
  },
  {
   "cell_type": "markdown",
   "metadata": {},
   "source": [
    "#### **Robust Mahalanobis**  \n"
   ]
  },
  {
   "cell_type": "markdown",
   "metadata": {},
   "source": [
    "\n",
    "##### **Using data-set as input**\n"
   ]
  },
  {
   "cell_type": "code",
   "execution_count": null,
   "metadata": {},
   "outputs": [],
   "source": [
    "def Robust_Maha_dist_matrix(X, S_robust):\n",
    "    \n",
    "    Calculates the Robust Mahalanobis distance matrix for a data matrix using SciPy.\n",
    "\n",
    "    Parameters (inputs)\n",
    "    ----------\n",
    "    X: a Pandas or Polars DataFrame or a NumPy array. It represents a data matrix.\n",
    "    S_robust: the robust covariance matrix of 'X'.\n",
    "\n",
    "    Returns (outputs)\n",
    "    ----------\n",
    "    M: the Robust Mahalanobis distance matrix between the rows of 'X'."
   ]
  },
  {
   "cell_type": "code",
   "execution_count": 28,
   "metadata": {},
   "outputs": [
    {
     "data": {
      "text/plain": [
       "array([[ 0.        ,  6.47092419,  7.01983235, ...,  4.96377088,\n",
       "         5.69177645,  3.68021705],\n",
       "       [ 6.47092419,  0.        ,  3.03471006, ..., 10.43356417,\n",
       "        10.12781147,  5.95613137],\n",
       "       [ 7.01983235,  3.03471006,  0.        , ..., 11.35024985,\n",
       "        10.9171085 ,  6.21243845],\n",
       "       ...,\n",
       "       [ 4.96377088, 10.43356417, 11.35024985, ...,  0.        ,\n",
       "         3.65216542,  7.11373136],\n",
       "       [ 5.69177645, 10.12781147, 10.9171085 , ...,  3.65216542,\n",
       "         0.        ,  7.86440327],\n",
       "       [ 3.68021705,  5.95613137,  6.21243845, ...,  7.11373136,\n",
       "         7.86440327,  0.        ]])"
      ]
     },
     "execution_count": 28,
     "metadata": {},
     "output_type": "execute_result"
    }
   ],
   "source": [
    "S_robust_ = S_robust(X=madrid_houses_df, method='MAD', epsilon=0.05, n_iters=20)\n",
    "Robust_Maha_dist_matrix(madrid_houses_df, S_robust=S_robust_)"
   ]
  },
  {
   "cell_type": "code",
   "execution_count": 29,
   "metadata": {},
   "outputs": [
    {
     "data": {
      "text/plain": [
       "array([[0.        , 4.42394645, 3.66053524, ..., 2.98676383, 4.16089955,\n",
       "        3.94457764],\n",
       "       [4.42394645, 0.        , 3.46180479, ..., 5.40273973, 4.18033284,\n",
       "        4.93110307],\n",
       "       [3.66053524, 3.46180479, 0.        , ..., 5.11553776, 4.01350136,\n",
       "        4.9769136 ],\n",
       "       ...,\n",
       "       [2.98676383, 5.40273973, 5.11553776, ..., 0.        , 4.4747319 ,\n",
       "        4.5077568 ],\n",
       "       [4.16089955, 4.18033284, 4.01350136, ..., 4.4747319 , 0.        ,\n",
       "        4.92403875],\n",
       "       [3.94457764, 4.93110307, 4.9769136 , ..., 4.5077568 , 4.92403875,\n",
       "        0.        ]])"
      ]
     },
     "execution_count": 29,
     "metadata": {},
     "output_type": "execute_result"
    }
   ],
   "source": [
    "S_robust_ = S_robust(X=madrid_houses_df, method='trimmed', epsilon=0.05, alpha=0.05, n_iters=20)\n",
    "Robust_Maha_dist_matrix(madrid_houses_df, S_robust=S_robust_)"
   ]
  },
  {
   "cell_type": "code",
   "execution_count": 30,
   "metadata": {},
   "outputs": [
    {
     "data": {
      "text/plain": [
       "array([[0.        , 4.23123309, 3.68407669, ..., 2.86519574, 4.13746138,\n",
       "        3.4793851 ],\n",
       "       [4.23123309, 0.        , 3.30110368, ..., 5.08940515, 4.20698026,\n",
       "        4.92423713],\n",
       "       [3.68407669, 3.30110368, 0.        , ..., 4.98171308, 4.09016333,\n",
       "        4.6741273 ],\n",
       "       ...,\n",
       "       [2.86519574, 5.08940515, 4.98171308, ..., 0.        , 4.23919057,\n",
       "        4.00516043],\n",
       "       [4.13746138, 4.20698026, 4.09016333, ..., 4.23919057, 0.        ,\n",
       "        4.89968753],\n",
       "       [3.4793851 , 4.92423713, 4.6741273 , ..., 4.00516043, 4.89968753,\n",
       "        0.        ]])"
      ]
     },
     "execution_count": 30,
     "metadata": {},
     "output_type": "execute_result"
    }
   ],
   "source": [
    "S_robust_ = S_robust(X=madrid_houses_df, method='winsorized', epsilon=0.05, alpha=0.05, n_iters=20)\n",
    "Robust_Maha_dist_matrix(madrid_houses_df, S_robust=S_robust_)"
   ]
  },
  {
   "cell_type": "markdown",
   "metadata": {},
   "source": [
    "\n",
    "##### **Using couple of observations as input**  "
   ]
  },
  {
   "cell_type": "code",
   "execution_count": 31,
   "metadata": {},
   "outputs": [
    {
     "data": {
      "text/plain": [
       "0.082572808774296"
      ]
     },
     "execution_count": 31,
     "metadata": {},
     "output_type": "execute_result"
    }
   ],
   "source": [
    "Robust_Maha_dist(x1, x3, S_robust=S_robust_)"
   ]
  },
  {
   "cell_type": "markdown",
   "metadata": {},
   "source": [
    "### **Mixed data**"
   ]
  },
  {
   "cell_type": "markdown",
   "metadata": {},
   "source": [
    "#### **Generalized Gower**  \n"
   ]
  },
  {
   "cell_type": "markdown",
   "metadata": {},
   "source": [
    "\n",
    "##### **Using data-set as input**\n"
   ]
  },
  {
   "cell_type": "code",
   "execution_count": null,
   "metadata": {},
   "outputs": [],
   "source": [
    "class GG_dist_matrix: \n",
    "    \"\"\"\n",
    "    Calculates the Generalized Gower matrix for a data matrix.\n",
    "    \"\"\"\n",
    "    def __init__(self, p1, p2, p3, d1='euclidean', d2='sokal', d3='matching', q=1, method='trimmed', epsilon=0.05, n_iters=20, alpha=0.05,\n",
    "                 fast_VG=False, VG_sample_size=300, VG_n_samples=5, random_state=123, weights=None):\n",
    "        \"\"\"\n",
    "        Constructor method.\n",
    "        \n",
    "        Parameters:\n",
    "            p1, p2, p3: number of quantitative, binary and multi-class variables in the considered data matrix, respectively. Must be a non negative integer.\n",
    "            d1: name of the distance to be computed for quantitative variables. Must be an string in ['euclidean', 'minkowski', 'canberra', 'mahalanobis', 'robust_mahalanobis']. \n",
    "            d2: name of the distance to be computed for binary variables. Must be an string in ['sokal', 'jaccard'].\n",
    "            d3: name of the distance to be computed for multi-class variables. Must be an string in ['matching'].\n",
    "            q: the parameter that defines the Minkowski distance. Must be a positive integer.\n",
    "            method: the method to be used for computing the robust covariance matrix. Only needed when d1 = 'robust_mahalanobis'.\n",
    "            epsilon : parameter used by the Delvin transformation. epsilon=0.05 is recommended. Only needed when d1 = 'robust_mahalanobis'.\n",
    "            n_iter : maximum number of iterations run by the Delvin algorithm. Only needed when d1 = 'robust_mahalanobis'.\n",
    "            alpha : a real number in [0,1] that is used if `method` is 'trimmed' or 'winsorized'. Only needed when d1 = 'robust_mahalanobis'.\n",
    "            fast_VG: whether the geometric variability estimation will be full (False) or fast (True).\n",
    "            VG_sample_size: sample size to be used to make the estimation of the geometric variability.\n",
    "            VG_n_samples: number of samples to be used to make the estimation of the geometric variability.\n",
    "            random_state: the random seed used for the (random) sample elements.\n",
    "            weights: the sample weights.\n",
    "        \"\"\"\n",
    "    def compute(self, X):\n",
    "        \"\"\"\n",
    "        Compute method.\n",
    "        \n",
    "        Parameters:\n",
    "            X: a Pandas or Polars data-frame or a NumPy array. Represents a data matrix.\n",
    "            \n",
    "        Returns:\n",
    "            D: the Generalized Gower matrix for the data matrix `X`.\n",
    "        \"\"\""
   ]
  },
  {
   "cell_type": "markdown",
   "metadata": {},
   "source": [
    "- With full VG estimation"
   ]
  },
  {
   "cell_type": "code",
   "execution_count": 32,
   "metadata": {},
   "outputs": [
    {
     "data": {
      "text/plain": [
       "array([[0.        , 2.21885363, 1.93318704, ..., 1.93891555, 3.12986955,\n",
       "        2.26834878],\n",
       "       [2.21885363, 0.        , 1.22309875, ..., 2.38689136, 2.63841547,\n",
       "        2.01262089],\n",
       "       [1.93318704, 1.22309875, 0.        , ..., 2.3585878 , 2.50589448,\n",
       "        1.63422771],\n",
       "       ...,\n",
       "       [1.93891555, 2.38689136, 2.3585878 , ..., 0.        , 2.89514966,\n",
       "        1.7665964 ],\n",
       "       [3.12986955, 2.63841547, 2.50589448, ..., 2.89514966, 0.        ,\n",
       "        3.02408907],\n",
       "       [2.26834878, 2.01262089, 1.63422771, ..., 1.7665964 , 3.02408907,\n",
       "        0.        ]])"
      ]
     },
     "execution_count": 32,
     "metadata": {},
     "output_type": "execute_result"
    }
   ],
   "source": [
    "GG_init = GG_dist_matrix(p1=5, p2=4, p3=2, d1='robust_mahalanobis', d2='jaccard', d3='matching', \n",
    "                         method='trimmed', alpha=0.05, epsilon=0.05, n_iters=20, fast_VG=False)\n",
    "D_GG = GG_init.compute(X=madrid_houses_df)\n",
    "D_GG"
   ]
  },
  {
   "cell_type": "markdown",
   "metadata": {},
   "source": [
    "- With fast VG estimation\n"
   ]
  },
  {
   "cell_type": "code",
   "execution_count": 33,
   "metadata": {},
   "outputs": [
    {
     "data": {
      "text/plain": [
       "array([[0.        , 2.21079365, 1.94153407, ..., 1.94710971, 3.19388939,\n",
       "        2.25935837],\n",
       "       [2.21079365, 0.        , 1.19943989, ..., 2.3704477 , 2.61811657,\n",
       "        2.01889193],\n",
       "       [1.94153407, 1.19943989, 0.        , ..., 2.34794054, 2.49263984,\n",
       "        1.66029709],\n",
       "       ...,\n",
       "       [1.94710971, 2.3704477 , 2.34794054, ..., 0.        , 2.97854468,\n",
       "        1.78790612],\n",
       "       [3.19388939, 2.61811657, 2.49263984, ..., 2.97854468, 0.        ,\n",
       "        3.09744146],\n",
       "       [2.25935837, 2.01889193, 1.66029709, ..., 1.78790612, 3.09744146,\n",
       "        0.        ]])"
      ]
     },
     "execution_count": 33,
     "metadata": {},
     "output_type": "execute_result"
    }
   ],
   "source": [
    "GG_init = GG_dist_matrix(p1=5, p2=4, p3=2, d1='robust_mahalanobis', d2='jaccard', d3='matching', \n",
    "                         method='trimmed', alpha=0.05, epsilon=0.05, n_iters=20, fast_VG=True,\n",
    "                         VG_n_samples=5, VG_sample_size=50)\n",
    "D_GG = GG_init.compute(X=madrid_houses_df)\n",
    "D_GG"
   ]
  },
  {
   "cell_type": "markdown",
   "metadata": {},
   "source": [
    "- With weights"
   ]
  },
  {
   "cell_type": "code",
   "execution_count": 34,
   "metadata": {},
   "outputs": [
    {
     "data": {
      "text/plain": [
       "array([[0.        , 2.19522219, 1.88018652, ..., 1.96158612, 3.03894716,\n",
       "        2.23162851],\n",
       "       [2.19522219, 0.        , 1.01470463, ..., 2.43908123, 2.57176396,\n",
       "        1.940635  ],\n",
       "       [1.88018652, 1.01470463, 0.        , ..., 2.28839255, 2.37552921,\n",
       "        1.6091117 ],\n",
       "       ...,\n",
       "       [1.96158612, 2.43908123, 2.28839255, ..., 0.        , 2.84937993,\n",
       "        1.67755672],\n",
       "       [3.03894716, 2.57176396, 2.37552921, ..., 2.84937993, 0.        ,\n",
       "        2.93702838],\n",
       "       [2.23162851, 1.940635  , 1.6091117 , ..., 1.67755672, 2.93702838,\n",
       "        0.        ]])"
      ]
     },
     "execution_count": 34,
     "metadata": {},
     "output_type": "execute_result"
    }
   ],
   "source": [
    "n = madrid_houses_df.shape[0]\n",
    "w = np.random.normal(loc=100, scale=20, size=n)\n",
    "\n",
    "GG_init = GG_dist_matrix(p1=5, p2=4, p3=2, d1='robust_mahalanobis', d2='jaccard', d3='matching', \n",
    "                         method='trimmed', alpha=0.05, epsilon=0.05, n_iters=20, fast_VG=False,\n",
    "                         weights=w)\n",
    "D_GG = GG_init.compute(X=madrid_houses_df)\n",
    "D_GG"
   ]
  },
  {
   "cell_type": "markdown",
   "metadata": {},
   "source": [
    "\n",
    "##### **Using couple of observations as input**  "
   ]
  },
  {
   "cell_type": "code",
   "execution_count": null,
   "metadata": {},
   "outputs": [],
   "source": [
    "class GG_dist: \n",
    "    \"\"\"\n",
    "    Calculates the Generalized Gower distance for a pair of data observations.\n",
    "    \"\"\"\n",
    "\n",
    "    def __init__(self, p1, p2, p3, d1='euclidean', d2='sokal', d3='matching', q=1, method='trimmed',  epsilon=0.05, n_iters=20, alpha=0.05,\n",
    "                       VG_sample_size=300, VG_n_samples=5, random_state=123, weights=None):\n",
    "        \"\"\"\n",
    "        Constructor method.\n",
    "        \n",
    "        Parameters:\n",
    "            p1, p2, p3: number of quantitative, binary and multi-class variables in the considered data matrix, respectively. Must be a non negative integer.\n",
    "            d1: name of the distance to be computed for quantitative variables. Must be an string in ['euclidean', 'minkowski', 'canberra', 'mahalanobis', 'robust_mahalanobis']. \n",
    "            d2: name of the distance to be computed for binary variables. Must be an string in ['sokal', 'jaccard'].\n",
    "            d3: name of the distance to be computed for multi-class variables. Must be an string in ['matching'].\n",
    "            q: the parameter that defines the Minkowski distance. Must be a positive integer.\n",
    "            method: the method to be used for computing the robust covariance matrix. Only needed when d1 = 'robust_mahalanobis'.\n",
    "            epsilon: parameter used by the Delvin algorithm that is used when computing the robust covariance matrix. Only needed when d1 = 'robust_mahalanobis'.\n",
    "            n_iter: maximum number of iterations used by the Delvin algorithm. Only needed when d1 = 'robust_mahalanobis'.\n",
    "            alpha : a real number in [0,1] that is used if `method` is 'trimmed' or 'winsorized'. Only needed when d1 = 'robust_mahalanobis'.\n",
    "            VG_sample_size: sample size to be used to make the estimation of the geometric variability.\n",
    "            VG_n_samples: number of samples to be used to make the estimation of the geometric variability.\n",
    "            random_state: the random seed used for the (random) sample elements.\n",
    "            weights: the sample weights.\n",
    "        \"\"\"\n",
    "    def fit(self, X) :\n",
    "        \"\"\"\n",
    "        Fit method that computes the geometric variability and (robust) covariance matrix to be used in the Compute method if needed.\n",
    "        \n",
    "        Parameters:\n",
    "            X: a pandas/polars data-frame or a numpy array. Represents a data matrix.\n",
    "            \n",
    "        Returns:\n",
    "            D: the Generalized Gower matrix for the data matrix `X`.\n",
    "        \"\"\"\n",
    "    def compute(self, xi, xr):\n",
    "        \"\"\"\n",
    "        Compute method.\n",
    "        \n",
    "        Parameters:\n",
    "            xi, xr: a pair of quantitative vectors. They represent a couple of statistical observations.\n",
    "            \n",
    "        Returns:\n",
    "            dist: the Generalized Gower distance between the observations `xi` and `xr`.\n",
    "        \"\"\""
   ]
  },
  {
   "cell_type": "code",
   "execution_count": 35,
   "metadata": {},
   "outputs": [],
   "source": [
    "x1 = madrid_houses_df[0,:]\n",
    "x3 = madrid_houses_df[2,:]"
   ]
  },
  {
   "cell_type": "code",
   "execution_count": 36,
   "metadata": {},
   "outputs": [
    {
     "data": {
      "text/plain": [
       "1.928211130154049"
      ]
     },
     "execution_count": 36,
     "metadata": {},
     "output_type": "execute_result"
    }
   ],
   "source": [
    "GG_dist_ = GG_dist(p1=5, p2=4, p3=2,\n",
    "                   d1='robust_mahalanobis', d2='jaccard', d3='matching',\n",
    "                   method='trimmed', epsilon=0.05, alpha=0.05, n_iters=20,\n",
    "                   VG_sample_size=1000, VG_n_samples=5, random_state=123) \n",
    "GG_dist_.fit(X=madrid_houses_df)   \n",
    "GG_dist_.compute(x1, x3) "
   ]
  },
  {
   "cell_type": "markdown",
   "metadata": {},
   "source": [
    "#### **Related Metric Scaling**  \n"
   ]
  },
  {
   "cell_type": "markdown",
   "metadata": {},
   "source": [
    "\n",
    "##### **Using data-set as input**\n"
   ]
  },
  {
   "cell_type": "code",
   "execution_count": null,
   "metadata": {},
   "outputs": [],
   "source": [
    "class RelMS_dist_matrix: \n",
    "    \"\"\"\n",
    "    Calculates the Related Metric Scaling matrix for a data matrix.\n",
    "    \"\"\"\n",
    "\n",
    "    def __init__(self, p1, p2, p3, d1='euclidean', d2='sokal', d3='matching', q=1, method='trimmed', \n",
    "                       epsilon=0.05, alpha=0.05, n_iters=20, weights=None, fast_VG=False):\n",
    "        \"\"\"\n",
    "        Constructor method.\n",
    "        \n",
    "        Parameters:\n",
    "            p1, p2, p3: number of quantitative, binary and multi-class variables in the considered data matrix, respectively. Must be a non negative integer.\n",
    "            d1: name of the distance to be computed for quantitative variables. Must be an string in ['euclidean', 'minkowski', 'canberra', 'mahalanobis', 'robust_mahalanobis']. \n",
    "            d2: name of the distance to be computed for binary variables. Must be an string in ['sokal', 'jaccard'].\n",
    "            d3: name of the distance to be computed for multi-class variables. Must be an string in ['matching'].\n",
    "            q: the parameter that defines the Minkowski distance. Must be a positive integer.\n",
    "            method: the method to be used for computing the robust covariance matrix. Only needed when d1 = 'robust_mahalanobis'.\n",
    "            epsilon: parameter used by the Delvin algorithm that is used when computing the robust covariance matrix. Only needed when d1 = 'robust_mahalanobis'.\n",
    "            n_iter: maximum number of iterations used by the Delvin algorithm. Only needed when d1 = 'robust_mahalanobis'.\n",
    "            alpha : a real number in [0,1] that is used if `method` is 'trimmed' or 'winsorized'. Only needed when d1 = 'robust_mahalanobis'.\n",
    "            weights: the sample weights.\n",
    "        \"\"\"\n",
    "    def compute(self, X, tol=0.009, Gs_PSD_trans=True, d=2):\n",
    "        \"\"\"\n",
    "        Compute method.\n",
    "        \n",
    "        Parameters:\n",
    "            X: a pandas/polars data-frame or a numpy array. Represents a data matrix.\n",
    "            tol: a tolerance value to round the close-to-zero eigenvalues of the Gramm matrices.\n",
    "            Gs_PSD_trans: controls if a transformation is applied to enforce positive semi-definite Gramm matrices.\n",
    "            d: a parameter that controls the omega definition involved in the transformation mentioned above.\n",
    "            \n",
    "        Returns:\n",
    "            D: the Related Metric Scaling matrix for the data matrix `X`.\n",
    "        \"\"\""
   ]
  },
  {
   "cell_type": "code",
   "execution_count": 37,
   "metadata": {},
   "outputs": [
    {
     "data": {
      "text/plain": [
       "array([[ 0.        , 10.29131982, 10.20148541, ..., 10.25180831,\n",
       "        10.1963865 , 10.23458336],\n",
       "       [10.29131994,  0.        , 10.13419898, ..., 10.10288394,\n",
       "        10.08333674, 10.0731428 ],\n",
       "       [10.20148539, 10.134199  ,  0.        , ..., 10.14619431,\n",
       "        10.03394396, 10.11537897],\n",
       "       ...,\n",
       "       [10.25180831, 10.10288394, 10.14619431, ...,  0.        ,\n",
       "        10.05982432, 10.00909222],\n",
       "       [10.1963865 , 10.08333674, 10.03394396, ..., 10.05982432,\n",
       "         0.        , 10.03008924],\n",
       "       [10.23458336, 10.0731428 , 10.11537897, ..., 10.00909221,\n",
       "        10.03008923,  0.        ]])"
      ]
     },
     "execution_count": 37,
     "metadata": {},
     "output_type": "execute_result"
    }
   ],
   "source": [
    "RelMS_init = RelMS_dist_matrix(p1=5, p2=4, p3=2, d1='robust_mahalanobis', d2='jaccard', d3='matching', \n",
    "                               method='winsorized', epsilon=0.05, alpha=0.05, n_iters=20)\n",
    "D_RelMS = RelMS_init.compute(X=madrid_houses_df.head(1000), Gs_PSD_trans=True)\n",
    "D_RelMS"
   ]
  }
 ],
 "metadata": {
  "kernelspec": {
   "display_name": "Python 3",
   "language": "python",
   "name": "python3"
  },
  "language_info": {
   "codemirror_mode": {
    "name": "ipython",
    "version": 3
   },
   "file_extension": ".py",
   "mimetype": "text/x-python",
   "name": "python",
   "nbconvert_exporter": "python",
   "pygments_lexer": "ipython3",
   "version": "3.11.5"
  },
  "orig_nbformat": 4
 },
 "nbformat": 4,
 "nbformat_minor": 2
}
